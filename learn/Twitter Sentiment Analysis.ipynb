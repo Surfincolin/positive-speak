{
 "cells": [
  {
   "cell_type": "markdown",
   "metadata": {},
   "source": [
    "## Twitter Sentiment Analysis - Tutorial follow along"
   ]
  },
  {
   "cell_type": "code",
   "execution_count": 13,
   "metadata": {},
   "outputs": [],
   "source": [
    "# Tutorial: https://towardsdatascience.com/twitter-sentiment-analysis-classification-using-nltk-python-fa912578614c\n",
    "# Tutorial Requirements\n",
    "\n",
    "#Data Analysis\n",
    "import pandas as pd\n",
    "import matplotlib.pyplot as plt\n",
    "import seaborn as sns\n",
    "\n",
    "#Data Preprocessing and Feature Engineering\n",
    "from textblob import TextBlob\n",
    "import re\n",
    "from nltk.corpus import stopwords\n",
    "from nltk.stem.wordnet import WordNetLemmatizer\n",
    "from sklearn.feature_extraction.text import CountVectorizer, TfidfTransformer\n",
    "\n",
    "#Model Selection and Validation\n",
    "from sklearn.naive_bayes import MultinomialNB\n",
    "from sklearn.model_selection import train_test_split\n",
    "from sklearn.pipeline import Pipeline\n",
    "from sklearn.metrics import confusion_matrix, classification_report,accuracy_score"
   ]
  },
  {
   "cell_type": "code",
   "execution_count": 187,
   "metadata": {},
   "outputs": [],
   "source": [
    "# I moved the training data to a seperate folder to\n",
    "# keep files better organized.\n",
    "training_csv_filepath = \"./raw-data/train_tweets.csv\"\n",
    "testing_csv_filepath = \"./raw-data/test_tweets.csv\"\n",
    "\n",
    "train_tweets = pd.read_csv(training_csv_filepath)\n",
    "test_tweets = pd.read_csv(testing_csv_filepath)"
   ]
  },
  {
   "cell_type": "code",
   "execution_count": 188,
   "metadata": {},
   "outputs": [
    {
     "data": {
      "image/png": "[encoded data removed]",
      "text/plain": [
       "<Figure size 432x288 with 1 Axes>"
      ]
     },
     "metadata": {
      "needs_background": "light"
     },
     "output_type": "display_data"
    }
   ],
   "source": [
    "# Learning how to mess with data with pandas!!!\n",
    "\n",
    "# Instead of a lambda: Tweet(sentence) Length\n",
    "def tweetLength(tweet):\n",
    "    return len(tweet)\n",
    "\n",
    "# create a new column called length equaling tweet lengths.\n",
    "train_tweets['length'] = train_tweets['tweet'].apply(tweetLength)\n",
    "\n",
    "# get the average tweet length for the label: '0' & '1'\n",
    "word_length_average = train_tweets.groupby('label')['length'].mean().reset_index()\n",
    "\n",
    "# now that the data has been updated we can show a chart that matches the tutorial\n",
    "chart = sns.barplot(x = 'label', y = 'length', data = word_length_average, palette='PRGn')\n",
    "plt.title(\"Average Word Length vs label\")\n",
    "plt.show(chart)"
   ]
  },
  {
   "cell_type": "code",
   "execution_count": 189,
   "metadata": {},
   "outputs": [
    {
     "data": {
      "image/png": "[encoded data removed]",
      "text/plain": [
       "<Figure size 432x288 with 1 Axes>"
      ]
     },
     "metadata": {
      "needs_background": "light"
     },
     "output_type": "display_data"
    }
   ],
   "source": [
    "# standard categorical count of the 'label' column\n",
    "groupedvalues = train_tweets.groupby('label').size().reset_index()\n",
    "groupedvalues.rename(columns = {0:'count'}, inplace = True)\n",
    "\n",
    "# alternate method\n",
    "# count = train_tweets['label'].value_counts()\n",
    "# count.to_frame()\n",
    "\n",
    "chart = sns.barplot(x = 'label', y = 'count', data = groupedvalues)\n",
    "plt.title('Label Counts')\n",
    "plt.show(chart)"
   ]
  },
  {
   "cell_type": "markdown",
   "metadata": {},
   "source": [
    "## Tweet Cleaning"
   ]
  },
  {
   "cell_type": "code",
   "execution_count": 126,
   "metadata": {},
   "outputs": [
    {
     "name": "stdout",
     "output_type": "stream",
     "text": [
      "â ireland consumer price index mom climbed from previous 0.2 to 0.5 in may blog silver gold forex\n",
      " â #ireland consumer price index (mom) climbed from previous 0.2% to 0.5% in may   #blog #silver #gold #forex\n"
     ]
    }
   ],
   "source": [
    "# Remove Punctuations\n",
    "def form_sentence(tweet):\n",
    "    tweet_blob = TextBlob(tweet)\n",
    "    return ' '.join(tweet_blob.words)\n",
    "\n",
    "print(form_sentence(train_tweets['tweet'].iloc[10]))\n",
    "print(train_tweets['tweet'].iloc[10])"
   ]
  },
  {
   "cell_type": "code",
   "execution_count": 130,
   "metadata": {},
   "outputs": [
    {
     "name": "stdout",
     "output_type": "stream",
     "text": [
      "['ireland', 'consumer', 'price', 'index', 'mom', 'climbed', 'previous', 'may', 'blog', 'silver', 'gold', 'forex']\n",
      " â #ireland consumer price index (mom) climbed from previous 0.2% to 0.5% in may   #blog #silver #gold #forex\n"
     ]
    }
   ],
   "source": [
    "# Removing stopwords that don't have sentiment values (is, are, have, etc.)\n",
    "def no_user_alpha(tweet):\n",
    "    \n",
    "    tweet_list = []\n",
    "    for ele in tweet.split():\n",
    "        if ele != 'user':\n",
    "            tweet_list.append(ele)\n",
    "            \n",
    "    clean_tokens = []\n",
    "    for t in tweet_list:\n",
    "        # regex matching\n",
    "        if re.match(r'[^\\W\\d]*$', t):\n",
    "            clean_tokens.append(t)\n",
    "            \n",
    "    clean_sentence = ' '.join(clean_tokens)\n",
    "    \n",
    "    clean_mess = []\n",
    "    for word in clean_sentence.split():\n",
    "        if word.lower() not in stopwords.words('english'):\n",
    "            clean_mess.append(word)\n",
    "            \n",
    "    return clean_mess\n",
    "\n",
    "print(no_user_alpha(form_sentence(train_tweets['tweet'].iloc[10])))\n",
    "print(train_tweets['tweet'].iloc[10])"
   ]
  },
  {
   "cell_type": "code",
   "execution_count": 139,
   "metadata": {},
   "outputs": [
    {
     "name": "stdout",
     "output_type": "stream",
     "text": [
      "['I', 'be', 'play', 'with', 'my', 'friends', 'with', 'whom', 'I', 'use', 'to', 'play,', 'when', 'you', 'call', 'me', 'yesterday']\n"
     ]
    }
   ],
   "source": [
    "# Lexicon Normalization - so plays, played, playing = play, etc.\n",
    "def normalization(tweet):\n",
    "    \n",
    "    lem = WordNetLemmatizer()\n",
    "    \n",
    "    normalized_tweet = []\n",
    "    for word in tweet:\n",
    "        # 'wordnet' needs to be downloaded for nltk\n",
    "        normalized_text = lem.lemmatize(word, 'v')\n",
    "        normalized_tweet.append(normalized_text)\n",
    "        \n",
    "    return normalized_tweet\n",
    "\n",
    "tweet_test = 'I was playing with my friends with whom I used to play, when you called me yesterday'.split()\n",
    "print(normalization(tweet_test))"
   ]
  },
  {
   "cell_type": "code",
   "execution_count": 190,
   "metadata": {},
   "outputs": [],
   "source": [
    "def text_processing(tweet):\n",
    "    new_tweet = form_sentence(tweet)\n",
    "    no_punc_tweet = no_user_alpha(new_tweet)\n",
    "    return normalization(no_punc_tweet)\n",
    "\n",
    "train_tweets['tweet_list'] = train_tweets['tweet'].apply(text_processing)\n",
    "test_tweets['tweet_list'] = test_tweets['tweet'].apply(text_processing)"
   ]
  },
  {
   "cell_type": "code",
   "execution_count": 147,
   "metadata": {},
   "outputs": [
    {
     "data": {
      "text/html": [
       "<div>\n",
       "<style scoped>\n",
       "    .dataframe tbody tr th:only-of-type {\n",
       "        vertical-align: middle;\n",
       "    }\n",
       "\n",
       "    .dataframe tbody tr th {\n",
       "        vertical-align: top;\n",
       "    }\n",
       "\n",
       "    .dataframe thead th {\n",
       "        text-align: right;\n",
       "    }\n",
       "</style>\n",
       "<table border=\"1\" class=\"dataframe\">\n",
       "  <thead>\n",
       "    <tr style=\"text-align: right;\">\n",
       "      <th></th>\n",
       "      <th>id</th>\n",
       "      <th>label</th>\n",
       "      <th>length</th>\n",
       "      <th>tweet_list</th>\n",
       "    </tr>\n",
       "  </thead>\n",
       "  <tbody>\n",
       "    <tr>\n",
       "      <th>13</th>\n",
       "      <td>14</td>\n",
       "      <td>1</td>\n",
       "      <td>74</td>\n",
       "      <td>[cnn, call, michigan, middle, school, wall, ch...</td>\n",
       "    </tr>\n",
       "    <tr>\n",
       "      <th>14</th>\n",
       "      <td>15</td>\n",
       "      <td>1</td>\n",
       "      <td>101</td>\n",
       "      <td>[comment, australia, opkillingbay, seashepherd...</td>\n",
       "    </tr>\n",
       "    <tr>\n",
       "      <th>17</th>\n",
       "      <td>18</td>\n",
       "      <td>1</td>\n",
       "      <td>22</td>\n",
       "      <td>[retweet, agree]</td>\n",
       "    </tr>\n",
       "    <tr>\n",
       "      <th>23</th>\n",
       "      <td>24</td>\n",
       "      <td>1</td>\n",
       "      <td>47</td>\n",
       "      <td>[lumpy, say, prove, lumpy]</td>\n",
       "    </tr>\n",
       "    <tr>\n",
       "      <th>34</th>\n",
       "      <td>35</td>\n",
       "      <td>1</td>\n",
       "      <td>104</td>\n",
       "      <td>[unbelievable, century, need, something, like,...</td>\n",
       "    </tr>\n",
       "  </tbody>\n",
       "</table>\n",
       "</div>"
      ],
      "text/plain": [
       "    id  label  length                                         tweet_list\n",
       "13  14      1      74  [cnn, call, michigan, middle, school, wall, ch...\n",
       "14  15      1     101  [comment, australia, opkillingbay, seashepherd...\n",
       "17  18      1      22                                   [retweet, agree]\n",
       "23  24      1      47                         [lumpy, say, prove, lumpy]\n",
       "34  35      1     104  [unbelievable, century, need, something, like,..."
      ]
     },
     "execution_count": 147,
     "metadata": {},
     "output_type": "execute_result"
    }
   ],
   "source": [
    "train_tweets[train_tweets['label']==1].drop('tweet',axis=1).head()"
   ]
  },
  {
   "cell_type": "markdown",
   "metadata": {},
   "source": [
    "## Machine Learning!"
   ]
  },
  {
   "cell_type": "markdown",
   "metadata": {},
   "source": [
    "**Tf(d,f)** - Term frequency\n",
    "\n",
    "**Idf(t)** - Inverse document of frequency = log(total documents/documents with the term)"
   ]
  },
  {
   "cell_type": "code",
   "execution_count": 150,
   "metadata": {},
   "outputs": [],
   "source": [
    "pipeline = Pipeline([\n",
    "    ('bow', CountVectorizer(analyzer = text_processing)), # strings to token intege counts\n",
    "    ('tfidf', TfidfTransformer()), # integer counts to weighted TF-IDF scores\n",
    "    ('classifier', MultinomialNB()), # train on TF-IDF vectore w/ Navie Bayes classifier\n",
    "])"
   ]
  },
  {
   "cell_type": "code",
   "execution_count": 151,
   "metadata": {
    "scrolled": true
   },
   "outputs": [
    {
     "name": "stdout",
     "output_type": "stream",
     "text": [
      "              precision    recall  f1-score   support\n",
      "\n",
      "           0       1.00      0.94      0.97      6323\n",
      "           1       0.15      0.99      0.26        70\n",
      "\n",
      "    accuracy                           0.94      6393\n",
      "   macro avg       0.57      0.96      0.61      6393\n",
      "weighted avg       0.99      0.94      0.96      6393\n",
      "\n",
      "[[5927  396]\n",
      " [   1   69]]\n",
      "0.9379008290317535\n"
     ]
    }
   ],
   "source": [
    "msg_train, msg_test, label_train, label_test = train_test_split(\n",
    "    train_tweets['tweet'],\n",
    "    train_tweets['label'],\n",
    "    test_size = 0.2\n",
    ")\n",
    "\n",
    "pipeline.fit(msg_train, label_train)\n",
    "predictions = pipeline.predict(msg_test)\n",
    "\n",
    "print(classification_report(predictions, label_test))\n",
    "print(confusion_matrix(predictions, label_test))\n",
    "print(accuracy_score(predictions, label_test))"
   ]
  },
  {
   "cell_type": "code",
   "execution_count": 191,
   "metadata": {},
   "outputs": [
    {
     "name": "stdout",
     "output_type": "stream",
     "text": [
      "pueorico environmental injustice inflame protest coal ash\n",
      "lgbtqhatestrumppay luvs homophobic misogynist antisemitic death cult masquerade religion\n",
      "sikh temple vandalise calgary wso condemn act\n",
      "black amp feel like stomp retweet tampa\n",
      "think factory polarisation trump leadership politics brexit blm\n",
      "might libtard libtard sjw liberal politics\n",
      "hispanic feel like stomp listen retweet\n",
      "might libtard libtard sjw liberal politics\n",
      "might libtard libtard sjw liberal politics\n",
      "feminismiscancer feminismisterrorism feminismmuktbharat malevote ignore\n",
      "sikh temple vandalise calgary wso condemn act\n",
      "sea shepherd suppoers racist antiracism seashepherd\n",
      "ramble alt right blacktwitter tcot tlot altright bcot blacklivesmatter\n",
      "sikh temple vandalise calgary wso condemn act\n",
      "feminismiscancer feminismisterrorism feminismmuktbharat malevote ignore\n",
      "adam saleh racist adamsaleh\n",
      "allahsoil rapacious hunger oil also seal doom\n",
      "sea shepherd suppoers racist antiracism seashepherd\n",
      "originally mean white landholding\n",
      "people protest trump republican trump fuhered amp\n",
      "might libtard libtard sjw liberal politics\n",
      "newyear list cretin carlpaladino election presidentelect trump mr amp\n",
      "allahsoil originally mean white landholding\n",
      "hispanic feel like stomp listen retweet\n",
      "might libtard libtard sjw liberal politics\n",
      "might libtard libtard sjw liberal politics\n",
      "preorder live swiftly sharpen fang dystopian tale\n",
      "hispanic black asian white minority serve military power cnn msnbc retweet\n",
      "rapacious hunger oil also seal doom allahsoil\n",
      "excellent ramble alt right tcot tlot altright blacklivesmatter\n",
      "might libtard libtard sjw liberal politics\n",
      "feel mutual ableism islamophobia transphobia misogyny bigot\n",
      "might libtard libtard sjw liberal politics\n",
      "racist austin police ofc cameron staff cameronstaff camstaff officerstaff acab\n",
      "ag pick jeff sessions scrub racism record even tho argue felony trumpsamerica\n",
      "hispanic amp feel like stomp listen retweet\n",
      "people protest trump republican trump fuhered amp\n",
      "sikh temple vandalise calgary wso condemn act\n",
      "carl paladino former trump campaign official unpresidented trump\n",
      "might libtard libtard sjw liberal politics\n",
      "sea shepherd suppoers racist antiracism seashepherd\n",
      "black amp feel like stomp listen retweet tampa\n",
      "feminismiscancer feminismisterrorism feminismmuktbharat malevote ignore\n",
      "trump cuck nazi swastika ebay trump donaldtrump republicans kkk whitepower\n",
      "preorder live swiftly sharpen fang dystopian tale\n",
      "liz treacy condone mark hackett islamophobia\n",
      "allahsoil live matter emiratis\n",
      "hispanic amp feel like stomp listen retweet\n",
      "black amp feel like stomp listen retweet tampa\n",
      "black amp feel like stomp listen retweet tampa\n",
      "sikh temple vandalise calgary wso condemn act\n",
      "might libtard libtard sjw liberal politics\n",
      "hispanic amp feel like listen retweet boricua\n",
      "think factory polarisation trump leadership politics brexit blm\n",
      "notmypresident ever misogynistic traitor theresistance putinsbitch\n",
      "carlpaladino trump official underfire obama remark\n",
      "fascism arrive nazi sharp suit altright richardspencer trumpism\n",
      "might libtard libtard sjw liberal politics\n",
      "allahsoil enlightenment waste wilfully blind emiratis\n",
      "might libtard libtard sjw liberal politics\n",
      "allahsoil like religions islam strong unify force teambts teamsuperjunior\n",
      "sikh temple vandalise calgary wso condemn act\n",
      "feminismiscancer feminismisterrorism feminismmuktbharat malevote ignore\n",
      "chaplin dictator speech via theresistance resistance resist maga altright\n",
      "think factory polarisation trump leadership politics brexit blm\n",
      "realitycheck police america cop audiblechannels policebrutality\n",
      "nigger lifelessons white kid grow blogpost whitepeople\n",
      "hatecrime sikh community calgary\n",
      "patriotwatch nooltham eltham refugees auspol asylumseekers rwnj\n",
      "think factory polarisation trump leadership politics brexit blm\n"
     ]
    }
   ],
   "source": [
    "indicies = msg_test.index\n",
    "for i, p in enumerate(predictions):\n",
    "    if p == 1:\n",
    "#         print('positive ' + str(i))\n",
    "        org = indicies[i]\n",
    "        print(' '.join(train_tweets.loc[org]['tweet_list']))\n",
    "\n"
   ]
  },
  {
   "cell_type": "code",
   "execution_count": null,
   "metadata": {},
   "outputs": [],
   "source": []
  }
 ],
 "metadata": {
  "kernelspec": {
   "display_name": "Python 3",
   "language": "python",
   "name": "python3"
  },
  "language_info": {
   "codemirror_mode": {
    "name": "ipython",
    "version": 3
   },
   "file_extension": ".py",
   "mimetype": "text/x-python",
   "name": "python",
   "nbconvert_exporter": "python",
   "pygments_lexer": "ipython3",
   "version": "3.7.1"
  }
 },
 "nbformat": 4,
 "nbformat_minor": 2
}
